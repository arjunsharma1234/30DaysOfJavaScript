{
  "nbformat": 4,
  "nbformat_minor": 0,
  "metadata": {
    "colab": {
      "provenance": [],
      "mount_file_id": "1CzL7Hc79ZLnw_xa4uCWmqhRmAamrJfen",
      "authorship_tag": "ABX9TyP94uqzPvdrT/veYwOBv8GZ",
      "include_colab_link": true
    },
    "kernelspec": {
      "name": "python3",
      "display_name": "Python 3"
    },
    "language_info": {
      "name": "python"
    }
  },
  "cells": [
    {
      "cell_type": "markdown",
      "metadata": {
        "id": "view-in-github",
        "colab_type": "text"
      },
      "source": [
        "<a href=\"https://colab.research.google.com/github/arjunsharma1234/30DaysOfJavaScript/blob/master/collab_test_arjun.ipynb\" target=\"_parent\"><img src=\"https://colab.research.google.com/assets/colab-badge.svg\" alt=\"Open In Colab\"/></a>"
      ]
    },
    {
      "cell_type": "code",
      "execution_count": 1,
      "metadata": {
        "colab": {
          "base_uri": "https://localhost:8080/"
        },
        "id": "kW9f0xx2NqC0",
        "outputId": "e1ff32bc-c7ac-4a8e-df35-ca0b4288bfd1"
      },
      "outputs": [
        {
          "output_type": "stream",
          "name": "stdout",
          "text": [
            "       6  0  0.1  0.2  0.3  0.4  0.5  0.6  0.7  0.8  ...  0.581  0.582  0.583  \\\n",
            "0      5  0    0    0    0    0    0    0    0    0  ...      0      0      0   \n",
            "1      7  0    0    0    0    0    0    0    0    0  ...      0      0      0   \n",
            "2      9  0    0    0    0    0    0    0    0    0  ...      0      0      0   \n",
            "3      5  0    0    0    0    0    0    0    0    0  ...      0      0      0   \n",
            "4      2  0    0    0    0    0    0    0    0    0  ...      0      0      0   \n",
            "...   .. ..  ...  ...  ...  ...  ...  ...  ...  ...  ...    ...    ...    ...   \n",
            "19994  0  0    0    0    0    0    0    0    0    0  ...      0      0      0   \n",
            "19995  1  0    0    0    0    0    0    0    0    0  ...      0      0      0   \n",
            "19996  2  0    0    0    0    0    0    0    0    0  ...      0      0      0   \n",
            "19997  9  0    0    0    0    0    0    0    0    0  ...      0      0      0   \n",
            "19998  5  0    0    0    0    0    0    0    0    0  ...      0      0      0   \n",
            "\n",
            "       0.584  0.585  0.586  0.587  0.588  0.589  0.590  \n",
            "0          0      0      0      0      0      0      0  \n",
            "1          0      0      0      0      0      0      0  \n",
            "2          0      0      0      0      0      0      0  \n",
            "3          0      0      0      0      0      0      0  \n",
            "4          0      0      0      0      0      0      0  \n",
            "...      ...    ...    ...    ...    ...    ...    ...  \n",
            "19994      0      0      0      0      0      0      0  \n",
            "19995      0      0      0      0      0      0      0  \n",
            "19996      0      0      0      0      0      0      0  \n",
            "19997      0      0      0      0      0      0      0  \n",
            "19998      0      0      0      0      0      0      0  \n",
            "\n",
            "[19999 rows x 785 columns]\n"
          ]
        }
      ],
      "source": [
        "import pandas as pd\n",
        "df=pd.read_csv('/content/sample_data/mnist_train_small.csv')\n",
        "print(f\"{df}\")"
      ]
    },
    {
      "cell_type": "code",
      "source": [],
      "metadata": {
        "id": "WhBCDh2UOouc"
      },
      "execution_count": null,
      "outputs": []
    }
  ]
}